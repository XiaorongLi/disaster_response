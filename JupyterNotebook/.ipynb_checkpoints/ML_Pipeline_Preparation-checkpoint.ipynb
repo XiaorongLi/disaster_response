{
 "cells": [
  {
   "cell_type": "markdown",
   "metadata": {},
   "source": [
    "# ML Pipeline Preparation\n",
    "Follow the instructions below to help you create your ML pipeline.\n",
    "### 1. Import libraries and load data from database.\n",
    "- Import Python libraries\n",
    "- Load dataset from database with [`read_sql_table`](https://pandas.pydata.org/pandas-docs/stable/generated/pandas.read_sql_table.html)\n",
    "- Define feature and target variables X and Y"
   ]
  },
  {
   "cell_type": "code",
   "execution_count": 3,
   "metadata": {},
   "outputs": [
    {
     "name": "stdout",
     "output_type": "stream",
     "text": [
      "Collecting setuptools\n",
      "\u001b[?25l  Downloading https://files.pythonhosted.org/packages/9e/d4/b99a960314121a003e9f39c61dfde01a1010bb47661e193a7722f7f32d52/setuptools-54.2.0-py3-none-any.whl (785kB)\n",
      "\u001b[K    100% |████████████████████████████████| 788kB 7.6MB/s ta 0:00:011\n",
      "\u001b[?25hInstalling collected packages: setuptools\n",
      "  Found existing installation: setuptools 38.4.0\n",
      "    Uninstalling setuptools-38.4.0:\n",
      "      Successfully uninstalled setuptools-38.4.0\n",
      "Successfully installed setuptools-54.2.0\n",
      "Collecting pip\n",
      "\u001b[?25l  Downloading https://files.pythonhosted.org/packages/fe/ef/60d7ba03b5c442309ef42e7d69959f73aacccd0d86008362a681c4698e83/pip-21.0.1-py3-none-any.whl (1.5MB)\n",
      "\u001b[K    100% |████████████████████████████████| 1.5MB 10.1MB/s ta 0:00:01\n",
      "\u001b[?25hInstalling collected packages: pip\n",
      "  Found existing installation: pip 18.1\n",
      "    Uninstalling pip-18.1:\n",
      "      Successfully uninstalled pip-18.1\n",
      "Successfully installed pip-21.0.1\n",
      "Collecting xgboost\n",
      "  Downloading xgboost-1.3.3-py3-none-manylinux2010_x86_64.whl (157.5 MB)\n",
      "\u001b[K     |████████████████████████████████| 157.5 MB 43 kB/s s eta 0:00:01  |▎                               | 1.3 MB 5.6 MB/s eta 0:00:28     |▊                               | 3.4 MB 5.6 MB/s eta 0:00:28     |█▎                              | 6.0 MB 5.6 MB/s eta 0:00:27     |██▎                             | 11.3 MB 5.6 MB/s eta 0:00:26     |██▋                             | 12.7 MB 5.6 MB/s eta 0:00:26     |███▋                            | 17.7 MB 5.6 MB/s eta 0:00:25     |████▎                           | 21.3 MB 5.6 MB/s eta 0:00:25     |█████▍                          | 26.3 MB 13.5 MB/s eta 0:00:10     |██████                          | 29.6 MB 13.5 MB/s eta 0:00:10     |██████▊                         | 33.2 MB 13.5 MB/s eta 0:00:10     |███████▌                        | 36.9 MB 13.5 MB/s eta 0:00:09     |████████▊                       | 43.0 MB 13.5 MB/s eta 0:00:09     |█████████▊                      | 47.6 MB 24.0 MB/s eta 0:00:05     |██████████                      | 48.8 MB 24.0 MB/s eta 0:00:05     |██████████▋                     | 52.3 MB 24.0 MB/s eta 0:00:05     |████████████▎                   | 60.3 MB 24.0 MB/s eta 0:00:05     |█████████████▏                  | 65.0 MB 24.0 MB/s eta 0:00:04     |██████████████▍                 | 70.6 MB 23.8 MB/s eta 0:00:04     |███████████████▏                | 74.9 MB 23.8 MB/s eta 0:00:04     |███████████████▍                | 76.0 MB 23.8 MB/s eta 0:00:04     |████████████████                | 79.2 MB 23.8 MB/s eta 0:00:04     |███████████████████▌            | 95.8 MB 22.5 MB/s eta 0:00:03     |███████████████████▋            | 96.8 MB 22.5 MB/s eta 0:00:03     |█████████████████████           | 103.9 MB 22.5 MB/s eta 0:00:03     |█████████████████████▎          | 104.8 MB 22.5 MB/s eta 0:00:03     |█████████████████████▊          | 106.7 MB 18.9 MB/s eta 0:00:03     |██████████████████████          | 108.7 MB 18.9 MB/s eta 0:00:03     |██████████████████████▌         | 110.7 MB 18.9 MB/s eta 0:00:03     |██████████████████████▊         | 111.6 MB 18.9 MB/s eta 0:00:03     |███████████████████████         | 112.7 MB 18.9 MB/s eta 0:00:03     |███████████████████████▊        | 116.6 MB 18.9 MB/s eta 0:00:03     |████████████████████████        | 118.6 MB 18.9 MB/s eta 0:00:03     |█████████████████████████▍      | 124.9 MB 18.3 MB/s eta 0:00:02     |█████████████████████████▋      | 126.0 MB 18.3 MB/s eta 0:00:02     |█████████████████████████▉      | 127.0 MB 18.3 MB/s eta 0:00:02     |██████████████████████████      | 128.1 MB 18.3 MB/s eta 0:00:02     |██████████████████████████▎     | 129.1 MB 18.3 MB/s eta 0:00:02     |██████████████████████████▉     | 132.3 MB 18.3 MB/s eta 0:00:02     |███████████████████████████▎    | 134.5 MB 18.3 MB/s eta 0:00:02     |███████████████████████████▋    | 135.7 MB 18.3 MB/s eta 0:00:02     |███████████████████████████▉    | 137.1 MB 18.3 MB/s eta 0:00:02     |████████████████████████████▍   | 139.6 MB 18.3 MB/s eta 0:00:01     |████████████████████████████▉   | 142.1 MB 18.3 MB/s eta 0:00:01     |█████████████████████████████▏  | 143.4 MB 18.3 MB/s eta 0:00:01     |█████████████████████████████▌  | 144.9 MB 18.3 MB/s eta 0:00:01     |█████████████████████████████▊  | 146.2 MB 13.9 MB/s eta 0:00:01     |██████████████████████████████▍ | 149.8 MB 13.9 MB/s eta 0:00:01     |██████████████████████████████▊ | 151.0 MB 13.9 MB/s eta 0:00:01     |██████████████████████████████▉ | 152.0 MB 13.9 MB/s eta 0:00:01     |███████████████████████████████▍| 154.4 MB 13.9 MB/s eta 0:00:01     |████████████████████████████████| 157.1 MB 13.9 MB/s eta 0:00:01\n",
      "\u001b[?25hRequirement already satisfied: scipy in /opt/conda/lib/python3.6/site-packages (from xgboost) (1.2.1)\n",
      "Requirement already satisfied: numpy in /opt/conda/lib/python3.6/site-packages (from xgboost) (1.12.1)\n",
      "Installing collected packages: xgboost\n",
      "Successfully installed xgboost-1.3.3\n"
     ]
    }
   ],
   "source": [
    "! pip install --upgrade setuptools\n",
    "! pip install --upgrade pip\n",
    "! pip install xgboost"
   ]
  },
  {
   "cell_type": "code",
   "execution_count": 4,
   "metadata": {},
   "outputs": [
    {
     "name": "stdout",
     "output_type": "stream",
     "text": [
      "[nltk_data] Downloading package stopwords to /root/nltk_data...\n",
      "[nltk_data]   Package stopwords is already up-to-date!\n",
      "[nltk_data] Downloading package punkt to /root/nltk_data...\n",
      "[nltk_data]   Package punkt is already up-to-date!\n",
      "[nltk_data] Downloading package wordnet to /root/nltk_data...\n",
      "[nltk_data]   Package wordnet is already up-to-date!\n"
     ]
    }
   ],
   "source": [
    "# import libraries\n",
    "import numpy as np\n",
    "import pandas as pd\n",
    "import re\n",
    "\n",
    "import nltk\n",
    "nltk.download('stopwords')\n",
    "nltk.download('punkt')\n",
    "nltk.download('wordnet')\n",
    "\n",
    "from nltk.corpus import stopwords\n",
    "from sqlalchemy import create_engine\n",
    "from nltk.tokenize import word_tokenize\n",
    "from nltk.stem import WordNetLemmatizer\n",
    "from sklearn.feature_extraction.text import CountVectorizer, TfidfTransformer\n",
    "\n",
    "from sklearn.pipeline import Pipeline\n",
    "from sklearn.metrics import confusion_matrix\n",
    "from sklearn.model_selection import train_test_split, GridSearchCV\n",
    "#from sklearn.ensemble import GradientBoostingClassifier\n",
    "import xgboost as xgb \n",
    "from sklearn.ensemble import RandomForestClassifier\n",
    "from sklearn.metrics import f1_score\n",
    "from sklearn.metrics import classification_report\n",
    "from sklearn.multioutput import MultiOutputClassifier"
   ]
  },
  {
   "cell_type": "code",
   "execution_count": 5,
   "metadata": {},
   "outputs": [
    {
     "data": {
      "text/plain": [
       "0    Weather update - a cold front from Cuba that c...\n",
       "1              Is the Hurricane over or is it not over\n",
       "2                      Looking for someone but no name\n",
       "3    UN reports Leogane 80-90 destroyed. Only Hospi...\n",
       "4    says: west side of Haiti, rest of the country ...\n",
       "5               Information about the National Palace-\n",
       "6                       Storm at sacred heart of jesus\n",
       "7    Please, we need tents and water. We are in Sil...\n",
       "8      I would like to receive the messages, thank you\n",
       "9    I am in Croix-des-Bouquets. We have health iss...\n",
       "Name: message, dtype: object"
      ]
     },
     "execution_count": 5,
     "metadata": {},
     "output_type": "execute_result"
    }
   ],
   "source": [
    "# load data from database\n",
    "engine = create_engine('sqlite:///messages.db')\n",
    "conn = engine.connect()\n",
    "df = pd.read_sql('SELECT * FROM messages', con=conn)\n",
    "df.head()\n",
    "X = df['message']\n",
    "Y = df.iloc[:, 4: ]\n",
    "X.head(10)"
   ]
  },
  {
   "cell_type": "markdown",
   "metadata": {},
   "source": [
    "### 2. Write a tokenization function to process your text data"
   ]
  },
  {
   "cell_type": "code",
   "execution_count": 6,
   "metadata": {},
   "outputs": [],
   "source": [
    "def tokenize(text):\n",
    "    '''Function normalizes case, removes punctuation, stems, lemmatizes and parse a message into separate words.\n",
    "    '''\n",
    "    stop_words = stopwords.words(\"english\")\n",
    "    lemmatizer = WordNetLemmatizer()\n",
    "    text = re.sub(r\"[^a-zA-Z0-9]\", \" \", text.lower())\n",
    "    tokens = word_tokenize(text)\n",
    "    tokens = [lemmatizer.lemmatize(word) for word in tokens if word not in stop_words]\n",
    "    \n",
    "    return tokens"
   ]
  },
  {
   "cell_type": "markdown",
   "metadata": {},
   "source": [
    "### 3. Build a machine learning pipeline\n",
    "This machine pipeline should take in the `message` column as input and output classification results on the other 36 categories in the dataset. "
   ]
  },
  {
   "cell_type": "code",
   "execution_count": 62,
   "metadata": {},
   "outputs": [],
   "source": [
    "pipeline = Pipeline([\n",
    "    ('vect', CountVectorizer(tokenizer=tokenize)),\n",
    "    ('tfidf', TfidfTransformer()),\n",
    "    ('clf', MultiOutputClassifier(estimator=RandomForestClassifier()))\n",
    "])"
   ]
  },
  {
   "cell_type": "code",
   "execution_count": 52,
   "metadata": {},
   "outputs": [
    {
     "data": {
      "text/plain": [
       "{'memory': None,\n",
       " 'steps': [('vect',\n",
       "   CountVectorizer(analyzer='word', binary=False, decode_error='strict',\n",
       "           dtype=<class 'numpy.int64'>, encoding='utf-8', input='content',\n",
       "           lowercase=True, max_df=1.0, max_features=None, min_df=1,\n",
       "           ngram_range=(1, 1), preprocessor=None, stop_words=None,\n",
       "           strip_accents=None, token_pattern='(?u)\\\\b\\\\w\\\\w+\\\\b',\n",
       "           tokenizer=<function tokenize at 0x7f2242826ea0>, vocabulary=None)),\n",
       "  ('tfidf',\n",
       "   TfidfTransformer(norm='l2', smooth_idf=True, sublinear_tf=False, use_idf=True)),\n",
       "  ('clf',\n",
       "   MultiOutputClassifier(estimator=RandomForestClassifier(bootstrap=True, class_weight=None, criterion='gini',\n",
       "               max_depth=None, max_features='auto', max_leaf_nodes=None,\n",
       "               min_impurity_decrease=0.0, min_impurity_split=None,\n",
       "               min_samples_leaf=1, min_samples_split=2,\n",
       "               min_weight_fraction_leaf=0.0, n_estimators=10, n_jobs=1,\n",
       "               oob_score=False, random_state=None, verbose=0,\n",
       "               warm_start=False),\n",
       "              n_jobs=1))],\n",
       " 'vect': CountVectorizer(analyzer='word', binary=False, decode_error='strict',\n",
       "         dtype=<class 'numpy.int64'>, encoding='utf-8', input='content',\n",
       "         lowercase=True, max_df=1.0, max_features=None, min_df=1,\n",
       "         ngram_range=(1, 1), preprocessor=None, stop_words=None,\n",
       "         strip_accents=None, token_pattern='(?u)\\\\b\\\\w\\\\w+\\\\b',\n",
       "         tokenizer=<function tokenize at 0x7f2242826ea0>, vocabulary=None),\n",
       " 'tfidf': TfidfTransformer(norm='l2', smooth_idf=True, sublinear_tf=False, use_idf=True),\n",
       " 'clf': MultiOutputClassifier(estimator=RandomForestClassifier(bootstrap=True, class_weight=None, criterion='gini',\n",
       "             max_depth=None, max_features='auto', max_leaf_nodes=None,\n",
       "             min_impurity_decrease=0.0, min_impurity_split=None,\n",
       "             min_samples_leaf=1, min_samples_split=2,\n",
       "             min_weight_fraction_leaf=0.0, n_estimators=10, n_jobs=1,\n",
       "             oob_score=False, random_state=None, verbose=0,\n",
       "             warm_start=False),\n",
       "            n_jobs=1),\n",
       " 'vect__analyzer': 'word',\n",
       " 'vect__binary': False,\n",
       " 'vect__decode_error': 'strict',\n",
       " 'vect__dtype': numpy.int64,\n",
       " 'vect__encoding': 'utf-8',\n",
       " 'vect__input': 'content',\n",
       " 'vect__lowercase': True,\n",
       " 'vect__max_df': 1.0,\n",
       " 'vect__max_features': None,\n",
       " 'vect__min_df': 1,\n",
       " 'vect__ngram_range': (1, 1),\n",
       " 'vect__preprocessor': None,\n",
       " 'vect__stop_words': None,\n",
       " 'vect__strip_accents': None,\n",
       " 'vect__token_pattern': '(?u)\\\\b\\\\w\\\\w+\\\\b',\n",
       " 'vect__tokenizer': <function __main__.tokenize(text)>,\n",
       " 'vect__vocabulary': None,\n",
       " 'tfidf__norm': 'l2',\n",
       " 'tfidf__smooth_idf': True,\n",
       " 'tfidf__sublinear_tf': False,\n",
       " 'tfidf__use_idf': True,\n",
       " 'clf__estimator__bootstrap': True,\n",
       " 'clf__estimator__class_weight': None,\n",
       " 'clf__estimator__criterion': 'gini',\n",
       " 'clf__estimator__max_depth': None,\n",
       " 'clf__estimator__max_features': 'auto',\n",
       " 'clf__estimator__max_leaf_nodes': None,\n",
       " 'clf__estimator__min_impurity_decrease': 0.0,\n",
       " 'clf__estimator__min_impurity_split': None,\n",
       " 'clf__estimator__min_samples_leaf': 1,\n",
       " 'clf__estimator__min_samples_split': 2,\n",
       " 'clf__estimator__min_weight_fraction_leaf': 0.0,\n",
       " 'clf__estimator__n_estimators': 10,\n",
       " 'clf__estimator__n_jobs': 1,\n",
       " 'clf__estimator__oob_score': False,\n",
       " 'clf__estimator__random_state': None,\n",
       " 'clf__estimator__verbose': 0,\n",
       " 'clf__estimator__warm_start': False,\n",
       " 'clf__estimator': RandomForestClassifier(bootstrap=True, class_weight=None, criterion='gini',\n",
       "             max_depth=None, max_features='auto', max_leaf_nodes=None,\n",
       "             min_impurity_decrease=0.0, min_impurity_split=None,\n",
       "             min_samples_leaf=1, min_samples_split=2,\n",
       "             min_weight_fraction_leaf=0.0, n_estimators=10, n_jobs=1,\n",
       "             oob_score=False, random_state=None, verbose=0,\n",
       "             warm_start=False),\n",
       " 'clf__n_jobs': 1}"
      ]
     },
     "execution_count": 52,
     "metadata": {},
     "output_type": "execute_result"
    }
   ],
   "source": [
    "pipeline.get_params()"
   ]
  },
  {
   "cell_type": "markdown",
   "metadata": {},
   "source": [
    "### 4. Train pipeline\n",
    "- Split data into train and test sets\n",
    "- Train pipeline"
   ]
  },
  {
   "cell_type": "code",
   "execution_count": 43,
   "metadata": {},
   "outputs": [],
   "source": [
    "Xtrain, Xtest, Ytrain, Ytest = train_test_split(X, Y)\n",
    "\n",
    "pipeline.fit(Xtrain, Ytrain)"
   ]
  },
  {
   "cell_type": "markdown",
   "metadata": {},
   "source": [
    "### 5. Test your model\n",
    "Report the f1 score, precision and recall for each output category of the dataset."
   ]
  },
  {
   "cell_type": "code",
   "execution_count": 64,
   "metadata": {},
   "outputs": [],
   "source": [
    "Ypred = pipeline.predict(Xtest)"
   ]
  },
  {
   "cell_type": "code",
   "execution_count": 65,
   "metadata": {},
   "outputs": [
    {
     "data": {
      "text/plain": [
       "array([[ 716,  846],\n",
       "       [ 403, 4589]])"
      ]
     },
     "execution_count": 65,
     "metadata": {},
     "output_type": "execute_result"
    }
   ],
   "source": [
    "# turn Ypred into a dataframe\n",
    "Ypred = pd.DataFrame(Ypred)\n",
    "Ypred.columns = Ytest.columns\n",
    "\n",
    "#check the confusion matrix for a specific output category.\n",
    "confusion_matrix(Ytest.iloc[:,0], Ypred.iloc[:,0])"
   ]
  },
  {
   "cell_type": "code",
   "execution_count": 66,
   "metadata": {},
   "outputs": [
    {
     "name": "stdout",
     "output_type": "stream",
     "text": [
      "             precision    recall  f1-score   support\n",
      "\n",
      "          0       0.64      0.46      0.53      1562\n",
      "          1       0.84      0.92      0.88      4992\n",
      "\n",
      "avg / total       0.80      0.81      0.80      6554\n",
      "\n",
      "                        precision    recall  f1-score   support\n",
      "\n",
      "               related       0.84      0.92      0.88      4992\n",
      "               request       0.78      0.41      0.54      1088\n",
      "                 offer       0.00      0.00      0.00        23\n",
      "           aid_related       0.74      0.62      0.67      2723\n",
      "          medical_help       0.60      0.11      0.18       522\n",
      "      medical_products       0.60      0.12      0.20       312\n",
      "     search_and_rescue       0.72      0.07      0.13       179\n",
      "              security       0.00      0.00      0.00       111\n",
      "              military       0.57      0.08      0.14       220\n",
      "           child_alone       0.00      0.00      0.00         0\n",
      "                 water       0.83      0.32      0.46       425\n",
      "                  food       0.80      0.55      0.65       736\n",
      "               shelter       0.88      0.24      0.38       590\n",
      "              clothing       0.62      0.15      0.24        99\n",
      "                 money       0.78      0.05      0.09       139\n",
      "        missing_people       0.75      0.08      0.14        78\n",
      "              refugees       0.57      0.05      0.10       222\n",
      "                 death       0.70      0.11      0.19       280\n",
      "             other_aid       0.49      0.05      0.08       873\n",
      "infrastructure_related       0.11      0.00      0.00       422\n",
      "             transport       0.62      0.05      0.10       289\n",
      "             buildings       0.77      0.16      0.27       338\n",
      "           electricity       0.71      0.04      0.07       131\n",
      "                 tools       0.00      0.00      0.00        38\n",
      "             hospitals       0.00      0.00      0.00        73\n",
      "                 shops       0.00      0.00      0.00        30\n",
      "           aid_centers       0.00      0.00      0.00        70\n",
      "  other_infrastructure       0.20      0.00      0.01       288\n",
      "       weather_related       0.82      0.61      0.70      1791\n",
      "                floods       0.90      0.33      0.49       517\n",
      "                 storm       0.76      0.47      0.58       588\n",
      "                  fire       0.83      0.07      0.13        74\n",
      "            earthquake       0.89      0.67      0.76       606\n",
      "                  cold       0.75      0.17      0.28       121\n",
      "         other_weather       0.83      0.05      0.10       357\n",
      "         direct_report       0.73      0.33      0.45      1228\n",
      "\n",
      "           avg / total       0.74      0.49      0.54     20573\n",
      "\n"
     ]
    },
    {
     "name": "stderr",
     "output_type": "stream",
     "text": [
      "/opt/conda/lib/python3.6/site-packages/sklearn/metrics/classification.py:1135: UndefinedMetricWarning: Precision and F-score are ill-defined and being set to 0.0 in labels with no predicted samples.\n",
      "  'precision', 'predicted', average, warn_for)\n",
      "/opt/conda/lib/python3.6/site-packages/sklearn/metrics/classification.py:1137: UndefinedMetricWarning: Recall and F-score are ill-defined and being set to 0.0 in labels with no true samples.\n",
      "  'recall', 'true', average, warn_for)\n"
     ]
    }
   ],
   "source": [
    "r1 = classification_report(Ytest.iloc[:,0], Ypred.iloc[:,0])\n",
    "r1 = classification_report(Ytest['related'], Ypred['related'])\n",
    "\n",
    "report = classification_report(Ytest, Ypred, target_names = Ytest.columns)\n",
    "\n",
    "print(r1)\n",
    "print(report)"
   ]
  },
  {
   "cell_type": "markdown",
   "metadata": {},
   "source": [
    "### 6. Improve your model\n",
    "Use grid search to find better parameters. "
   ]
  },
  {
   "cell_type": "code",
   "execution_count": null,
   "metadata": {},
   "outputs": [],
   "source": [
    "parameters = {\n",
    "    # determine exact parameter names from pipeline.get_params()\n",
    "    #'clf__estimator__n_estimators': [100, 200],\n",
    "    'clf__estimator__max_features': ['sqrt', 'log2'],\n",
    "    'clf__estimator__min_samples_leaf': [10,20]\n",
    "}\n",
    "\n",
    "#cv = GridSearchCV(pipeline, param_grid=parameters)\n",
    "#cv.fit(Xtrain, Ytrain)"
   ]
  },
  {
   "cell_type": "code",
   "execution_count": 111,
   "metadata": {},
   "outputs": [
    {
     "data": {
      "text/plain": [
       "Pipeline(memory=None,\n",
       "     steps=[('vect', CountVectorizer(analyzer='word', binary=False, decode_error='strict',\n",
       "        dtype=<class 'numpy.int64'>, encoding='utf-8', input='content',\n",
       "        lowercase=True, max_df=1.0, max_features=None, min_df=1,\n",
       "        ngram_range=(1, 1), preprocessor=None, stop_words=None,\n",
       "        strip...\n",
       "            oob_score=True, random_state=None, verbose=0, warm_start=False),\n",
       "           n_jobs=1))])"
      ]
     },
     "execution_count": 111,
     "metadata": {},
     "output_type": "execute_result"
    }
   ],
   "source": [
    "# Use cross validation to search for the best parameters turns out to be much too slow. \n",
    "# Since we are doing random forest, we can take advantage of the bootstrap process and check the OOB errors.\n",
    "# Will this be a little bit faster?\n",
    "pipeline1 = Pipeline([\n",
    "    ('vect', CountVectorizer(tokenizer=tokenize)),\n",
    "    ('tfidf', TfidfTransformer()),\n",
    "    ('clf', MultiOutputClassifier(estimator=RandomForestClassifier(oob_score=True, n_estimators=50, min_samples_leaf=1)))\n",
    "])\n",
    "pipeline1.fit(Xtrain, Ytrain)\n",
    "\n",
    "est = pipeline1.steps[2][1].estimators_\n",
    "oob1 = []\n",
    "for e in est:\n",
    "    oob1.append(e.oob_score_)\n",
    "sum(oob1)/len(oob1)"
   ]
  },
  {
   "cell_type": "code",
   "execution_count": 102,
   "metadata": {},
   "outputs": [
    {
     "data": {
      "text/plain": [
       "0.93996999135344084"
      ]
     },
     "execution_count": 102,
     "metadata": {},
     "output_type": "execute_result"
    }
   ],
   "source": [
    "pipeline2 = Pipeline([\n",
    "    ('vect', CountVectorizer(tokenizer=tokenize)),\n",
    "    ('tfidf', TfidfTransformer()),\n",
    "    ('clf', MultiOutputClassifier(estimator=RandomForestClassifier(oob_score=True, n_estimators=50, min_samples_leaf=10)))\n",
    "])\n",
    "pipeline2.fit(Xtrain, Ytrain)\n",
    "\n",
    "est = pipeline2.steps[2][1].estimators_\n",
    "oob2 = []\n",
    "for e in est:\n",
    "    oob2.append(e.oob_score_)\n",
    "sum(oob2)/len(oob2)"
   ]
  },
  {
   "cell_type": "code",
   "execution_count": 104,
   "metadata": {},
   "outputs": [
    {
     "data": {
      "text/plain": [
       "0.94215706220436379"
      ]
     },
     "execution_count": 104,
     "metadata": {},
     "output_type": "execute_result"
    }
   ],
   "source": [
    "pipeline3 = Pipeline([\n",
    "    ('vect', CountVectorizer(tokenizer=tokenize)),\n",
    "    ('tfidf', TfidfTransformer()),\n",
    "    ('clf', MultiOutputClassifier(estimator=RandomForestClassifier(oob_score=True, n_estimators=100, min_samples_leaf=5)))\n",
    "])\n",
    "pipeline3.fit(Xtrain, Ytrain)\n",
    "\n",
    "\n",
    "est = pipeline3.steps[2][1].estimators_\n",
    "oob3 = []\n",
    "for e in est:\n",
    "    oob3.append(e.oob_score_)\n",
    "sum(oob3)/len(oob3)"
   ]
  },
  {
   "cell_type": "code",
   "execution_count": 113,
   "metadata": {},
   "outputs": [
    {
     "data": {
      "text/plain": [
       "0.94773070206669729"
      ]
     },
     "execution_count": 113,
     "metadata": {},
     "output_type": "execute_result"
    }
   ],
   "source": [
    "pipeline4 = Pipeline([\n",
    "    ('vect', CountVectorizer(tokenizer=tokenize)),\n",
    "    ('tfidf', TfidfTransformer()),\n",
    "    ('clf', MultiOutputClassifier(estimator=RandomForestClassifier(oob_score=True, n_estimators=100, min_samples_leaf=1)))\n",
    "])\n",
    "pipeline4.fit(Xtrain, Ytrain)\n",
    "\n",
    "est = pipeline4.steps[2][1].estimators_\n",
    "oob4 = []\n",
    "for e in est:\n",
    "    oob4.append(e.oob_score_)\n",
    "sum(oob4)/len(oob4)"
   ]
  },
  {
   "cell_type": "markdown",
   "metadata": {},
   "source": [
    "### 7. Test your model\n",
    "Show the accuracy, precision, and recall of the tuned model.  \n",
    "\n",
    "Since this project focuses on code quality, process, and  pipelines, there is no minimum performance metric needed to pass. However, make sure to fine tune your models for accuracy, precision and recall to make your project stand out - especially for your portfolio!"
   ]
  },
  {
   "cell_type": "code",
   "execution_count": 115,
   "metadata": {},
   "outputs": [],
   "source": [
    "Ypredoob = pipeline4.predict(Xtest)"
   ]
  },
  {
   "cell_type": "code",
   "execution_count": 116,
   "metadata": {},
   "outputs": [
    {
     "name": "stderr",
     "output_type": "stream",
     "text": [
      "/opt/conda/lib/python3.6/site-packages/sklearn/metrics/classification.py:1135: UndefinedMetricWarning: Precision and F-score are ill-defined and being set to 0.0 in labels with no predicted samples.\n",
      "  'precision', 'predicted', average, warn_for)\n",
      "/opt/conda/lib/python3.6/site-packages/sklearn/metrics/classification.py:1137: UndefinedMetricWarning: Recall and F-score are ill-defined and being set to 0.0 in labels with no true samples.\n",
      "  'recall', 'true', average, warn_for)\n"
     ]
    }
   ],
   "source": [
    "#Ypredcv = pd.DataFrame(Ypredcv)\n",
    "#Ypredcv.columns = Ytest.columns\n",
    "#r1 = classification_report(Ytest['related'], Ypredcv['related'])\n",
    "#report = classification_report(Ytest, Ypredcv, target_names = Ytest.columns)\n",
    "\n",
    "\n",
    "Ypredoob = pd.DataFrame(Ypredoob)\n",
    "Ypredoob.columns = Ytest.columns\n",
    "r1oob = classification_report(Ytest['related'], Ypredoob['related'])\n",
    "reportoob = classification_report(Ytest, Ypredoob, target_names = Ytest.columns)"
   ]
  },
  {
   "cell_type": "code",
   "execution_count": 118,
   "metadata": {},
   "outputs": [
    {
     "name": "stdout",
     "output_type": "stream",
     "text": [
      "             precision    recall  f1-score   support\n",
      "\n",
      "          0       0.70      0.39      0.50      1562\n",
      "          1       0.83      0.95      0.89      4992\n",
      "\n",
      "avg / total       0.80      0.81      0.79      6554\n",
      "\n",
      "                        precision    recall  f1-score   support\n",
      "\n",
      "               related       0.83      0.95      0.89      4992\n",
      "               request       0.83      0.50      0.62      1088\n",
      "                 offer       0.00      0.00      0.00        23\n",
      "           aid_related       0.76      0.70      0.73      2723\n",
      "          medical_help       0.65      0.07      0.12       522\n",
      "      medical_products       0.72      0.11      0.18       312\n",
      "     search_and_rescue       0.77      0.06      0.10       179\n",
      "              security       0.00      0.00      0.00       111\n",
      "              military       0.64      0.08      0.15       220\n",
      "           child_alone       0.00      0.00      0.00         0\n",
      "                 water       0.85      0.37      0.52       425\n",
      "                  food       0.81      0.63      0.71       736\n",
      "               shelter       0.86      0.39      0.54       590\n",
      "              clothing       0.62      0.13      0.22        99\n",
      "                 money       0.80      0.03      0.06       139\n",
      "        missing_people       0.00      0.00      0.00        78\n",
      "              refugees       0.50      0.04      0.07       222\n",
      "                 death       0.83      0.16      0.26       280\n",
      "             other_aid       0.51      0.03      0.06       873\n",
      "infrastructure_related       0.33      0.00      0.01       422\n",
      "             transport       0.74      0.06      0.11       289\n",
      "             buildings       0.78      0.12      0.20       338\n",
      "           electricity       1.00      0.04      0.07       131\n",
      "                 tools       0.00      0.00      0.00        38\n",
      "             hospitals       0.00      0.00      0.00        73\n",
      "                 shops       0.00      0.00      0.00        30\n",
      "           aid_centers       0.00      0.00      0.00        70\n",
      "  other_infrastructure       0.29      0.01      0.01       288\n",
      "       weather_related       0.86      0.69      0.76      1791\n",
      "                floods       0.91      0.45      0.60       517\n",
      "                 storm       0.80      0.51      0.62       588\n",
      "                  fire       1.00      0.01      0.03        74\n",
      "            earthquake       0.90      0.80      0.85       606\n",
      "                  cold       0.85      0.09      0.16       121\n",
      "         other_weather       0.65      0.04      0.07       357\n",
      "         direct_report       0.80      0.38      0.51      1228\n",
      "\n",
      "           avg / total       0.76      0.54      0.58     20573\n",
      "\n"
     ]
    }
   ],
   "source": [
    "#print(r1)\n",
    "#print(report)\n",
    "print(r1oob)\n",
    "print(reportoob)"
   ]
  },
  {
   "cell_type": "markdown",
   "metadata": {},
   "source": [
    "### 8. Try improving your model further. Here are a few ideas:\n",
    "* try other machine learning algorithms\n",
    "* add other features besides the TF-IDF"
   ]
  },
  {
   "cell_type": "code",
   "execution_count": 53,
   "metadata": {},
   "outputs": [],
   "source": [
    "# Try random forests in XGBoost\n",
    "pipeline_xgb = Pipeline([\n",
    "    ('vect', CountVectorizer(tokenizer=tokenize)),\n",
    "    ('tfidf', TfidfTransformer()),\n",
    "    ('clf', MultiOutputClassifier(estimator=xgb.XGBClassifier(objective='binary:logistic', colsample_bynode=0.4,\\\n",
    "                                                             learning_rate=1, max_depth=5, num_parallel_tree=10,\\\n",
    "                                                             subsample=0.8, eval_metric='logloss',\\\n",
    "                                                             use_label_encoder=False)))\n",
    "])\n",
    "##ATTENTION: how does use_label_encoder affect the result?"
   ]
  },
  {
   "cell_type": "code",
   "execution_count": 54,
   "metadata": {},
   "outputs": [
    {
     "data": {
      "text/plain": [
       "Pipeline(memory=None,\n",
       "     steps=[('vect', CountVectorizer(analyzer='word', binary=False, decode_error='strict',\n",
       "        dtype=<class 'numpy.int64'>, encoding='utf-8', input='content',\n",
       "        lowercase=True, max_df=1.0, max_features=None, min_df=1,\n",
       "        ngram_range=(1, 1), preprocessor=None, stop_words=None,\n",
       "        strip...e,\n",
       "       use_label_encoder=False, validate_parameters=None, verbosity=None),\n",
       "           n_jobs=1))])"
      ]
     },
     "execution_count": 54,
     "metadata": {},
     "output_type": "execute_result"
    }
   ],
   "source": [
    "pipeline_xgb.fit(Xtrain, Ytrain)"
   ]
  },
  {
   "cell_type": "code",
   "execution_count": 55,
   "metadata": {},
   "outputs": [],
   "source": [
    "Ypred = pipeline_xgb.predict(Xtest)"
   ]
  },
  {
   "cell_type": "code",
   "execution_count": 57,
   "metadata": {},
   "outputs": [
    {
     "name": "stdout",
     "output_type": "stream",
     "text": [
      "                        precision    recall  f1-score   support\n",
      "\n",
      "               related       0.86      0.93      0.89      5014\n",
      "               request       0.75      0.60      0.67      1084\n",
      "                 offer       0.00      0.00      0.00        34\n",
      "           aid_related       0.76      0.70      0.73      2693\n",
      "          medical_help       0.59      0.34      0.43       524\n",
      "      medical_products       0.67      0.39      0.49       340\n",
      "     search_and_rescue       0.57      0.22      0.32       162\n",
      "              security       0.15      0.02      0.03       104\n",
      "              military       0.62      0.41      0.50       205\n",
      "           child_alone       0.00      0.00      0.00         0\n",
      "                 water       0.77      0.67      0.71       414\n",
      "                  food       0.81      0.76      0.78       693\n",
      "               shelter       0.75      0.60      0.67       606\n",
      "              clothing       0.76      0.46      0.57       112\n",
      "                 money       0.52      0.35      0.42       164\n",
      "        missing_people       0.52      0.17      0.26        63\n",
      "              refugees       0.57      0.29      0.38       226\n",
      "                 death       0.75      0.55      0.64       308\n",
      "             other_aid       0.54      0.24      0.33       884\n",
      "infrastructure_related       0.36      0.11      0.17       431\n",
      "             transport       0.68      0.27      0.39       298\n",
      "             buildings       0.67      0.44      0.53       339\n",
      "           electricity       0.56      0.28      0.37       129\n",
      "                 tools       0.33      0.03      0.05        40\n",
      "             hospitals       0.28      0.08      0.12        64\n",
      "                 shops       0.20      0.04      0.06        27\n",
      "           aid_centers       0.38      0.10      0.16        78\n",
      "  other_infrastructure       0.27      0.09      0.14       296\n",
      "       weather_related       0.84      0.74      0.79      1878\n",
      "                floods       0.83      0.60      0.69       579\n",
      "                 storm       0.77      0.65      0.71       628\n",
      "                  fire       0.52      0.24      0.32        51\n",
      "            earthquake       0.86      0.85      0.85       622\n",
      "                  cold       0.67      0.36      0.47       143\n",
      "         other_weather       0.50      0.20      0.29       361\n",
      "         direct_report       0.69      0.49      0.58      1251\n",
      "\n",
      "           avg / total       0.74      0.63      0.67     20845\n",
      "\n"
     ]
    },
    {
     "name": "stderr",
     "output_type": "stream",
     "text": [
      "/opt/conda/lib/python3.6/site-packages/sklearn/metrics/classification.py:1135: UndefinedMetricWarning: Precision and F-score are ill-defined and being set to 0.0 in labels with no predicted samples.\n",
      "  'precision', 'predicted', average, warn_for)\n",
      "/opt/conda/lib/python3.6/site-packages/sklearn/metrics/classification.py:1137: UndefinedMetricWarning: Recall and F-score are ill-defined and being set to 0.0 in labels with no true samples.\n",
      "  'recall', 'true', average, warn_for)\n"
     ]
    }
   ],
   "source": [
    "report = classification_report(Ytest, Ypred, target_names = Ytest.columns)\n",
    "print(report)"
   ]
  },
  {
   "cell_type": "markdown",
   "metadata": {},
   "source": [
    "### 9. Export your model as a pickle file"
   ]
  },
  {
   "cell_type": "code",
   "execution_count": 58,
   "metadata": {},
   "outputs": [],
   "source": [
    "def display_result(Ypred, Ytest):\n",
    "    Ypred = pd.DataFrame(Ypred)\n",
    "    Ypred.columns = Ytest.columns\n",
    "    report = classification_report(Ytest, Ypredoob, target_names = Ytest.columns)\n",
    "    print(report)\n",
    "    return 0"
   ]
  },
  {
   "cell_type": "markdown",
   "metadata": {},
   "source": [
    "### 10. Use this notebook to complete `train.py`\n",
    "Use the template file attached in the Resources folder to write a script that runs the steps above to create a database and export a model based on a new dataset specified by the user."
   ]
  },
  {
   "cell_type": "code",
   "execution_count": null,
   "metadata": {},
   "outputs": [],
   "source": []
  }
 ],
 "metadata": {
  "kernelspec": {
   "display_name": "Python 3",
   "language": "python",
   "name": "python3"
  },
  "language_info": {
   "codemirror_mode": {
    "name": "ipython",
    "version": 3
   },
   "file_extension": ".py",
   "mimetype": "text/x-python",
   "name": "python",
   "nbconvert_exporter": "python",
   "pygments_lexer": "ipython3",
   "version": "3.7.3"
  }
 },
 "nbformat": 4,
 "nbformat_minor": 2
}
